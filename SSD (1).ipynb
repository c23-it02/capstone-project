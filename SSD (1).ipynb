{
  "cells": [
    {
      "cell_type": "code",
      "execution_count": 1,
      "id": "916297fb-f701-40d4-b670-e07a3f3f5fef",
      "metadata": {
        "tags": [],
        "id": "916297fb-f701-40d4-b670-e07a3f3f5fef"
      },
      "outputs": [],
      "source": [
        "import os\n",
        "import numpy as np\n",
        "import tensorflow as tf\n",
        "from tensorflow import keras\n",
        "from tensorflow.keras import layers\n",
        "from tensorflow.keras.models import Sequential\n",
        "import PIL\n",
        "from google.colab import drive\n",
        "import zipfile\n",
        "import matplotlib.pyplot as plt\n",
        "import cv2"
      ]
    },
    {
      "cell_type": "code",
      "source": [
        "drive.mount('/content/gdrive')"
      ],
      "metadata": {
        "colab": {
          "base_uri": "https://localhost:8080/"
        },
        "id": "NwaimNDsz8zK",
        "outputId": "66f63401-7b89-4a44-91b2-407d309bcaed"
      },
      "id": "NwaimNDsz8zK",
      "execution_count": 2,
      "outputs": [
        {
          "output_type": "stream",
          "name": "stdout",
          "text": [
            "Mounted at /content/gdrive\n"
          ]
        }
      ]
    },
    {
      "cell_type": "code",
      "execution_count": 10,
      "id": "5c8154e6-fb8f-4507-8ae7-28364a90513c",
      "metadata": {
        "tags": [],
        "id": "5c8154e6-fb8f-4507-8ae7-28364a90513c"
      },
      "outputs": [],
      "source": [
        "train_datagen = tf.keras.preprocessing.image.ImageDataGenerator(\n",
        "    rescale = 1 / 255,\n",
        "    width_shift_range=0.1,  \n",
        "    height_shift_range=0.1, \n",
        "    zoom_range=0.2, \n",
        "    horizontal_flip=True,  \n",
        "    brightness_range=(0.8, 1.2),  \n",
        "    fill_mode='nearest'\n",
        ")\n",
        "\n",
        "val_datagen = tf.keras.preprocessing.image.ImageDataGenerator(rescale=1/255)"
      ]
    },
    {
      "cell_type": "code",
      "execution_count": 12,
      "id": "88ab7753-dad1-4c75-a2a7-d63582b34634",
      "metadata": {
        "tags": [],
        "colab": {
          "base_uri": "https://localhost:8080/"
        },
        "id": "88ab7753-dad1-4c75-a2a7-d63582b34634",
        "outputId": "72395363-90ea-4c34-e919-5a1412daecd2"
      },
      "outputs": [
        {
          "output_type": "stream",
          "name": "stdout",
          "text": [
            "Found 40800 images belonging to 51 classes.\n",
            "Found 8364 images belonging to 51 classes.\n"
          ]
        }
      ],
      "source": [
        "train_generator = train_datagen.flow_from_directory(\n",
        "        'dataset_SSD_train',  # This is the source directory for training images\n",
        "        target_size=(300, 300),  # All images will be resized to 150x150\n",
        "        batch_size=150,\n",
        "        class_mode='categorical')\n",
        "\n",
        "val_generator = val_datagen.flow_from_directory(\n",
        "        'dataset_SSD_val',  # This is the source directory for training images\n",
        "        target_size=(300, 300),  # All images will be resized to 150x150\n",
        "        batch_size=150,\n",
        "        class_mode='categorical')"
      ]
    },
    {
      "cell_type": "code",
      "execution_count": 14,
      "id": "bc5391cc-b26e-4f13-8d7d-dcaeb1627111",
      "metadata": {
        "tags": [],
        "id": "bc5391cc-b26e-4f13-8d7d-dcaeb1627111",
        "colab": {
          "base_uri": "https://localhost:8080/"
        },
        "outputId": "36812b90-1ea7-43ef-d989-60160f0a7681"
      },
      "outputs": [
        {
          "output_type": "stream",
          "name": "stdout",
          "text": [
            "Downloading data from https://storage.googleapis.com/tensorflow/keras-applications/inception_resnet_v2/inception_resnet_v2_weights_tf_dim_ordering_tf_kernels_notop.h5\n",
            "219055592/219055592 [==============================] - 1s 0us/step\n"
          ]
        }
      ],
      "source": [
        "from tensorflow.keras import layers\n",
        "from tensorflow.keras import Model\n",
        "import tensorflow.keras.applications\n",
        "\n",
        "#local_weight = os.path.join('inception_v3_weights_tf_dim_ordering_tf_kernels_notop.h5')\n",
        "\n",
        "pre_trained = tensorflow.keras.applications.InceptionResNetV2(\n",
        "    input_shape=(300,300,3),\n",
        "    include_top=False,\n",
        "    weights=\"imagenet\",\n",
        ")\n"
      ]
    },
    {
      "cell_type": "code",
      "execution_count": 15,
      "id": "d7dfb53e-5baa-472f-b5cb-c3c31c6f6a66",
      "metadata": {
        "tags": [],
        "id": "d7dfb53e-5baa-472f-b5cb-c3c31c6f6a66"
      },
      "outputs": [],
      "source": [
        "for layer in pre_trained.layers:\n",
        "    layer.trainable = False"
      ]
    },
    {
      "cell_type": "code",
      "execution_count": 16,
      "id": "050044bd-52b0-4987-a0fa-341a2e91a44d",
      "metadata": {
        "tags": [],
        "id": "050044bd-52b0-4987-a0fa-341a2e91a44d"
      },
      "outputs": [],
      "source": [
        "model = tf.keras.models.Sequential()\n",
        "model.add(pre_trained)\n",
        "model.add(layers.BatchNormalization(renorm=True))\n",
        "model.add(layers.GlobalAveragePooling2D())\n",
        "model.add(layers.Dense(256, activation='relu'))\n",
        "model.add(layers.BatchNormalization())\n",
        "model.add(layers.Dropout(0.2))\n",
        "model.add(layers.Dense(128, activation='relu'))\n",
        "model.add(layers.BatchNormalization())\n",
        "model.add(layers.Dropout(0.2))\n",
        "model.add(layers.Dense(51, activation='softmax'))\n",
        "\n",
        "model.compile(loss='categorical_crossentropy', optimizer='adam', metrics=['accuracy'])"
      ]
    },
    {
      "cell_type": "code",
      "execution_count": 17,
      "id": "70cea4f0-46cd-459b-bc70-2a5e7752d57d",
      "metadata": {
        "tags": [],
        "colab": {
          "base_uri": "https://localhost:8080/"
        },
        "id": "70cea4f0-46cd-459b-bc70-2a5e7752d57d",
        "outputId": "519410c3-c7bc-404d-d86f-0307f00ccb75"
      },
      "outputs": [
        {
          "output_type": "stream",
          "name": "stdout",
          "text": [
            "Model: \"sequential\"\n",
            "_________________________________________________________________\n",
            " Layer (type)                Output Shape              Param #   \n",
            "=================================================================\n",
            " inception_resnet_v2 (Functi  (None, 8, 8, 1536)       54336736  \n",
            " onal)                                                           \n",
            "                                                                 \n",
            " batch_normalization_203 (Ba  (None, 8, 8, 1536)       10752     \n",
            " tchNormalization)                                               \n",
            "                                                                 \n",
            " global_average_pooling2d (G  (None, 1536)             0         \n",
            " lobalAveragePooling2D)                                          \n",
            "                                                                 \n",
            " dense (Dense)               (None, 256)               393472    \n",
            "                                                                 \n",
            " batch_normalization_204 (Ba  (None, 256)              1024      \n",
            " tchNormalization)                                               \n",
            "                                                                 \n",
            " dropout (Dropout)           (None, 256)               0         \n",
            "                                                                 \n",
            " dense_1 (Dense)             (None, 128)               32896     \n",
            "                                                                 \n",
            " batch_normalization_205 (Ba  (None, 128)              512       \n",
            " tchNormalization)                                               \n",
            "                                                                 \n",
            " dropout_1 (Dropout)         (None, 128)               0         \n",
            "                                                                 \n",
            " dense_2 (Dense)             (None, 51)                6579      \n",
            "                                                                 \n",
            "=================================================================\n",
            "Total params: 54,781,971\n",
            "Trainable params: 436,787\n",
            "Non-trainable params: 54,345,184\n",
            "_________________________________________________________________\n"
          ]
        }
      ],
      "source": [
        "model.summary()"
      ]
    },
    {
      "cell_type": "code",
      "execution_count": 19,
      "id": "0fce573a-499c-41f1-a6b3-4b91c3d9fc0e",
      "metadata": {
        "tags": [],
        "colab": {
          "base_uri": "https://localhost:8080/"
        },
        "id": "0fce573a-499c-41f1-a6b3-4b91c3d9fc0e",
        "outputId": "a01fde2e-eced-40c8-dca6-f097fec5a85a"
      },
      "outputs": [
        {
          "output_type": "stream",
          "name": "stdout",
          "text": [
            "Epoch 1/5\n",
            "272/272 [==============================] - 1468s 5s/step - loss: 1.4062 - accuracy: 0.5778 - val_loss: 0.7465 - val_accuracy: 0.7745\n",
            "Epoch 2/5\n",
            "272/272 [==============================] - 1438s 5s/step - loss: 0.4502 - accuracy: 0.8636 - val_loss: 0.4182 - val_accuracy: 0.8725\n",
            "Epoch 3/5\n",
            "272/272 [==============================] - 1433s 5s/step - loss: 0.2747 - accuracy: 0.9109 - val_loss: 0.2946 - val_accuracy: 0.9020\n",
            "Epoch 4/5\n",
            "272/272 [==============================] - 1434s 5s/step - loss: 0.2042 - accuracy: 0.9341 - val_loss: 0.2731 - val_accuracy: 0.8824\n",
            "Epoch 5/5\n",
            "272/272 [==============================] - 1467s 5s/step - loss: 0.1826 - accuracy: 0.9395 - val_loss: 0.1933 - val_accuracy: 0.9363\n"
          ]
        }
      ],
      "source": [
        "h = model.fit(train_generator,\n",
        "              validation_data=val_generator,\n",
        "              epochs = 5,\n",
        "              verbose = 1)"
      ]
    },
    {
      "cell_type": "code",
      "execution_count": 32,
      "id": "0e73b2cd-06a8-4e99-ace0-7391d712f2ad",
      "metadata": {
        "id": "0e73b2cd-06a8-4e99-ace0-7391d712f2ad",
        "outputId": "ded73b38-d079-46b5-fbfb-e3fb92223ced",
        "colab": {
          "base_uri": "https://localhost:8080/"
        }
      },
      "outputs": [
        {
          "output_type": "stream",
          "name": "stdout",
          "text": [
            "1/1 [==============================] - 0s 134ms/step\n",
            "23\n"
          ]
        }
      ],
      "source": [
        "from tensorflow.keras.utils import load_img, img_to_array\n",
        "\n",
        "tes_path = os.path.join('/content/dataset_SSD_train/3/20230505_133811copy0.jpg')\n",
        "img = load_img(tes_path, target_size=(300, 300))\n",
        "x = img_to_array(img)\n",
        "x /= 255\n",
        "x = np.expand_dims(x, axis=0)\n",
        "images = np.vstack([x])\n",
        "yhat = model.predict(images)\n",
        "yhat = np.argmax(yhat, axis=1)[0]\n",
        "print(yhat)"
      ]
    },
    {
      "cell_type": "code",
      "execution_count": 34,
      "id": "8dd6bdcf-6a12-45d0-864a-3034a879583c",
      "metadata": {
        "id": "8dd6bdcf-6a12-45d0-864a-3034a879583c"
      },
      "outputs": [],
      "source": [
        "loss_train = h.history['loss']\n",
        "loss_val = h.history['val_loss']\n",
        "train_acc = h.history['accuracy']\n",
        "val_acc = h.history['val_accuracy']\n",
        "epochs = range(1, 6)"
      ]
    },
    {
      "cell_type": "code",
      "source": [
        "plt.plot(epochs, loss_train, 'g', label='Training loss')\n",
        "plt.plot(epochs, loss_val, 'b', label='validation loss')\n",
        "plt.title('Training and Validation loss')\n",
        "plt.xlabel('Epochs')\n",
        "plt.ylabel('Loss')\n",
        "plt.legend()\n",
        "plt.show()"
      ],
      "metadata": {
        "id": "jRpVU282ZqsP",
        "colab": {
          "base_uri": "https://localhost:8080/",
          "height": 472
        },
        "outputId": "956fc2ef-abd3-4bc8-cc9c-d0632783397d"
      },
      "id": "jRpVU282ZqsP",
      "execution_count": 35,
      "outputs": [
        {
          "output_type": "display_data",
          "data": {
            "text/plain": [
              "<Figure size 640x480 with 1 Axes>"
            ],
            "image/png": "[encoded data removed]"
          },
          "metadata": {}
        }
      ]
    },
    {
      "cell_type": "code",
      "source": [
        "plt.plot(epochs, train_acc, 'g', label='Training Accuracy')\n",
        "plt.plot(epochs, val_acc, 'b', label='Validation Accuracy')\n",
        "plt.title('Training and Validation Accuracy')\n",
        "plt.xlabel('Epochs')\n",
        "plt.ylabel('Acc')\n",
        "plt.legend()\n",
        "plt.show()"
      ],
      "metadata": {
        "id": "mHZnRCMgZvr5",
        "colab": {
          "base_uri": "https://localhost:8080/",
          "height": 472
        },
        "outputId": "a2a4c6a9-450a-4fb5-dab1-45a67e02598a"
      },
      "id": "mHZnRCMgZvr5",
      "execution_count": 36,
      "outputs": [
        {
          "output_type": "display_data",
          "data": {
            "text/plain": [
              "<Figure size 640x480 with 1 Axes>"
            ],
            "image/png": "[encoded data removed]"
          },
          "metadata": {}
        }
      ]
    },
    {
      "cell_type": "code",
      "source": [
        "model.save('model_SSD.h5')"
      ],
      "metadata": {
        "id": "HlWRTwW-aP1S"
      },
      "id": "HlWRTwW-aP1S",
      "execution_count": 20,
      "outputs": []
    },
    {
      "cell_type": "code",
      "source": [
        "os.mkdir('dataset_SSD_train')\n",
        "os.mkdir('dataset_SSD_val')"
      ],
      "metadata": {
        "id": "OASSSVL1VS3f"
      },
      "id": "OASSSVL1VS3f",
      "execution_count": 4,
      "outputs": []
    },
    {
      "cell_type": "code",
      "source": [
        "file = zipfile.ZipFile('gdrive/MyDrive/Dataset/dataset_SSD.zip')\n",
        "file.extractall()\n",
        "file.close()"
      ],
      "metadata": {
        "id": "KKgu_SXsb57p"
      },
      "id": "KKgu_SXsb57p",
      "execution_count": 6,
      "outputs": []
    },
    {
      "cell_type": "code",
      "source": [
        "for folder in os.listdir('dataset_SSD'):\n",
        "  nyimpen1 = 'dataset_SSD_train'\n",
        "  nyimpen2 = 'dataset_SSD_val'\n",
        "  os.mkdir(os.path.join(nyimpen1, folder))\n",
        "  os.mkdir(os.path.join(nyimpen2, folder))\n",
        "  for image in os.listdir(os.path.join('dataset_SSD', folder)):\n",
        "    img = cv2.imread(os.path.join('dataset_SSD', folder, image))\n",
        "    img = cv2.resize(img, (600,600), interpolation=cv2.INTER_AREA)\n",
        "    for i in range(200):\n",
        "      if i < 41:\n",
        "        cv2.imwrite(os.path.join(nyimpen2, folder, image.split('.')[0] + 'copy' + str(i) + '.jpg'), img)\n",
        "      cv2.imwrite(os.path.join(nyimpen1, folder, image.split('.')[0] + 'copy' + str(i) + '.jpg'), img)"
      ],
      "metadata": {
        "id": "rTa8zp3LchyE"
      },
      "id": "rTa8zp3LchyE",
      "execution_count": 7,
      "outputs": []
    },
    {
      "cell_type": "code",
      "source": [
        "rmdir /content/dataset_SSD_train/.ipynb_checkpoints"
      ],
      "metadata": {
        "id": "BE5NmAyscSh_",
        "colab": {
          "base_uri": "https://localhost:8080/"
        },
        "outputId": "60141214-6140-48df-ae82-24bf81144dce"
      },
      "id": "BE5NmAyscSh_",
      "execution_count": 8,
      "outputs": [
        {
          "output_type": "stream",
          "name": "stdout",
          "text": [
            "rmdir: failed to remove '/content/dataset_SSD_train/.ipynb_checkpoints': No such file or directory\n"
          ]
        }
      ]
    },
    {
      "cell_type": "code",
      "source": [
        "rmdir /content/dataset_SSD_val/.ipynb_checkpoints"
      ],
      "metadata": {
        "id": "WbgSGnl_cxg1",
        "colab": {
          "base_uri": "https://localhost:8080/"
        },
        "outputId": "9f076b40-1c55-4836-97dd-740c8383b70b"
      },
      "id": "WbgSGnl_cxg1",
      "execution_count": 9,
      "outputs": [
        {
          "output_type": "stream",
          "name": "stdout",
          "text": [
            "rmdir: failed to remove '/content/dataset_SSD_val/.ipynb_checkpoints': No such file or directory\n"
          ]
        }
      ]
    },
    {
      "cell_type": "code",
      "source": [],
      "metadata": {
        "id": "8hphst-Xiqyl"
      },
      "id": "8hphst-Xiqyl",
      "execution_count": null,
      "outputs": []
    }
  ],
  "metadata": {
    "kernelspec": {
      "display_name": "Python 3",
      "name": "python3"
    },
    "language_info": {
      "codemirror_mode": {
        "name": "ipython",
        "version": 3
      },
      "file_extension": ".py",
      "mimetype": "text/x-python",
      "name": "python",
      "nbconvert_exporter": "python",
      "pygments_lexer": "ipython3",
      "version": "3.11.0"
    },
    "colab": {
      "provenance": [],
      "gpuType": "T4"
    },
    "accelerator": "GPU"
  },
  "nbformat": 4,
  "nbformat_minor": 5
}