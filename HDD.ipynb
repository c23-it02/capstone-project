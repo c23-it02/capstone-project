{
  "cells": [
    {
      "cell_type": "code",
      "execution_count": 2,
      "id": "916297fb-f701-40d4-b670-e07a3f3f5fef",
      "metadata": {
        "tags": [],
        "id": "916297fb-f701-40d4-b670-e07a3f3f5fef"
      },
      "outputs": [],
      "source": [
        "import os\n",
        "import numpy as np\n",
        "import tensorflow as tf\n",
        "from tensorflow import keras\n",
        "from tensorflow.keras import layers\n",
        "from tensorflow.keras.models import Sequential\n",
        "import PIL\n",
        "from google.colab import drive\n",
        "import zipfile"
      ]
    },
    {
      "cell_type": "code",
      "source": [
        "drive.mount('/content/gdrive')"
      ],
      "metadata": {
        "colab": {
          "base_uri": "https://localhost:8080/"
        },
        "id": "NwaimNDsz8zK",
        "outputId": "5c0fc14b-3d03-4cbb-d2b5-caec2f6ea52b"
      },
      "id": "NwaimNDsz8zK",
      "execution_count": 3,
      "outputs": [
        {
          "output_type": "stream",
          "name": "stdout",
          "text": [
            "Mounted at /content/gdrive\n"
          ]
        }
      ]
    },
    {
      "cell_type": "code",
      "source": [
        "os.listdir('gdrive/MyDrive/Dataset')"
      ],
      "metadata": {
        "colab": {
          "base_uri": "https://localhost:8080/"
        },
        "id": "ng_sw0NR1Sk_",
        "outputId": "d88d676f-c99e-43e3-9c85-f24be6f577d8"
      },
      "id": "ng_sw0NR1Sk_",
      "execution_count": null,
      "outputs": [
        {
          "output_type": "execute_result",
          "data": {
            "text/plain": [
              "['dataset_HDD_train_kecil1.zip', 'dataset_HDD_val_kecil1.zip']"
            ]
          },
          "metadata": {},
          "execution_count": 10
        }
      ]
    },
    {
      "cell_type": "code",
      "source": [
        "path_train = os.path.join('gdrive', 'MyDrive', 'Dataset', 'dataset_HDD_train_kecil1.zip')\n",
        "path_val = os.path.join('gdrive', 'MyDrive', 'Dataset', 'dataset_HDD_val_kecil1.zip')\n",
        "\n",
        "file = zipfile.ZipFile(path_train)\n",
        "file.extractall()\n",
        "file.close()\n",
        "\n",
        "myfile = zipfile.ZipFile(path_val)\n",
        "myfile.extractall()\n",
        "myfile.close()"
      ],
      "metadata": {
        "id": "YFyS0WPs0KXF"
      },
      "id": "YFyS0WPs0KXF",
      "execution_count": 4,
      "outputs": []
    },
    {
      "cell_type": "code",
      "execution_count": 5,
      "id": "5c8154e6-fb8f-4507-8ae7-28364a90513c",
      "metadata": {
        "tags": [],
        "id": "5c8154e6-fb8f-4507-8ae7-28364a90513c"
      },
      "outputs": [],
      "source": [
        "train_datagen = tf.keras.preprocessing.image.ImageDataGenerator(\n",
        "    rescale = 1 / 255,\n",
        "    width_shift_range=0.1,  \n",
        "    height_shift_range=0.1, \n",
        "    zoom_range=0.2, \n",
        "    horizontal_flip=True,  \n",
        "    brightness_range=(0.8, 1.2),  \n",
        "    fill_mode='nearest'\n",
        ")\n",
        "\n",
        "val_datagen = tf.keras.preprocessing.image.ImageDataGenerator(rescale=1/255)"
      ]
    },
    {
      "cell_type": "code",
      "execution_count": 6,
      "id": "88ab7753-dad1-4c75-a2a7-d63582b34634",
      "metadata": {
        "tags": [],
        "colab": {
          "base_uri": "https://localhost:8080/"
        },
        "id": "88ab7753-dad1-4c75-a2a7-d63582b34634",
        "outputId": "2c50f893-d1a8-4c96-eae8-12029e387632"
      },
      "outputs": [
        {
          "output_type": "stream",
          "name": "stdout",
          "text": [
            "Found 10504 images belonging to 26 classes.\n",
            "Found 1274 images belonging to 26 classes.\n"
          ]
        }
      ],
      "source": [
        "train_generator = train_datagen.flow_from_directory(\n",
        "        'dataset_HDD_train_kecil1',  # This is the source directory for training images\n",
        "        target_size=(600, 600),  # All images will be resized to 150x150\n",
        "        batch_size=64,\n",
        "        class_mode='categorical')\n",
        "\n",
        "val_generator = val_datagen.flow_from_directory(\n",
        "        'dataset_HDD_val_kecil1',  # This is the source directory for training images\n",
        "        target_size=(600, 600),  # All images will be resized to 150x150\n",
        "        batch_size=64,\n",
        "        class_mode='categorical')"
      ]
    },
    {
      "cell_type": "code",
      "execution_count": 7,
      "id": "bc5391cc-b26e-4f13-8d7d-dcaeb1627111",
      "metadata": {
        "tags": [],
        "id": "bc5391cc-b26e-4f13-8d7d-dcaeb1627111",
        "colab": {
          "base_uri": "https://localhost:8080/"
        },
        "outputId": "7791b50f-c037-4be9-adc7-2840ca40f22d"
      },
      "outputs": [
        {
          "output_type": "stream",
          "name": "stdout",
          "text": [
            "Downloading data from https://storage.googleapis.com/tensorflow/keras-applications/inception_resnet_v2/inception_resnet_v2_weights_tf_dim_ordering_tf_kernels_notop.h5\n",
            "219055592/219055592 [==============================] - 1s 0us/step\n"
          ]
        }
      ],
      "source": [
        "from tensorflow.keras import layers\n",
        "from tensorflow.keras import Model\n",
        "import tensorflow.keras.applications\n",
        "\n",
        "#local_weight = os.path.join('inception_v3_weights_tf_dim_ordering_tf_kernels_notop.h5')\n",
        "\n",
        "pre_trained = tensorflow.keras.applications.InceptionResNetV2(input_shape=(600,600,3),\n",
        "                         include_top=False,\n",
        "                         weights= 'imagenet')\n"
      ]
    },
    {
      "cell_type": "code",
      "execution_count": 8,
      "id": "d7dfb53e-5baa-472f-b5cb-c3c31c6f6a66",
      "metadata": {
        "tags": [],
        "id": "d7dfb53e-5baa-472f-b5cb-c3c31c6f6a66"
      },
      "outputs": [],
      "source": [
        "for layer in pre_trained.layers:\n",
        "    layer.trainable = False"
      ]
    },
    {
      "cell_type": "code",
      "execution_count": 9,
      "id": "050044bd-52b0-4987-a0fa-341a2e91a44d",
      "metadata": {
        "tags": [],
        "id": "050044bd-52b0-4987-a0fa-341a2e91a44d"
      },
      "outputs": [],
      "source": [
        "model = tf.keras.models.Sequential()\n",
        "model.add(pre_trained)\n",
        "model.add(layers.BatchNormalization(renorm=True))\n",
        "model.add(layers.GlobalAveragePooling2D())\n",
        "model.add(layers.Dense(256, activation='relu'))\n",
        "model.add(layers.Dropout(0.2))\n",
        "model.add(layers.Dense(64, activation='relu'))\n",
        "model.add(layers.Dropout(0.2))\n",
        "model.add(layers.Dense(26, activation='softmax'))\n",
        "\n",
        "model.compile(loss='categorical_crossentropy', optimizer='adam', metrics=['accuracy'])"
      ]
    },
    {
      "cell_type": "code",
      "execution_count": 10,
      "id": "70cea4f0-46cd-459b-bc70-2a5e7752d57d",
      "metadata": {
        "tags": [],
        "colab": {
          "base_uri": "https://localhost:8080/"
        },
        "id": "70cea4f0-46cd-459b-bc70-2a5e7752d57d",
        "outputId": "4216fe65-b104-49eb-eb83-61a8deeee555"
      },
      "outputs": [
        {
          "output_type": "stream",
          "name": "stdout",
          "text": [
            "Model: \"sequential\"\n",
            "_________________________________________________________________\n",
            " Layer (type)                Output Shape              Param #   \n",
            "=================================================================\n",
            " inception_resnet_v2 (Functi  (None, 17, 17, 1536)     54336736  \n",
            " onal)                                                           \n",
            "                                                                 \n",
            " batch_normalization_203 (Ba  (None, 17, 17, 1536)     10752     \n",
            " tchNormalization)                                               \n",
            "                                                                 \n",
            " global_average_pooling2d (G  (None, 1536)             0         \n",
            " lobalAveragePooling2D)                                          \n",
            "                                                                 \n",
            " dense (Dense)               (None, 256)               393472    \n",
            "                                                                 \n",
            " dropout (Dropout)           (None, 256)               0         \n",
            "                                                                 \n",
            " dense_1 (Dense)             (None, 64)                16448     \n",
            "                                                                 \n",
            " dropout_1 (Dropout)         (None, 64)                0         \n",
            "                                                                 \n",
            " dense_2 (Dense)             (None, 26)                1690      \n",
            "                                                                 \n",
            "=================================================================\n",
            "Total params: 54,759,098\n",
            "Trainable params: 414,682\n",
            "Non-trainable params: 54,344,416\n",
            "_________________________________________________________________\n"
          ]
        }
      ],
      "source": [
        "model.summary()"
      ]
    },
    {
      "cell_type": "code",
      "execution_count": 14,
      "id": "0fce573a-499c-41f1-a6b3-4b91c3d9fc0e",
      "metadata": {
        "tags": [],
        "colab": {
          "base_uri": "https://localhost:8080/"
        },
        "id": "0fce573a-499c-41f1-a6b3-4b91c3d9fc0e",
        "outputId": "22b1595e-4a1e-406a-c682-1892b477d33f"
      },
      "outputs": [
        {
          "output_type": "stream",
          "name": "stdout",
          "text": [
            "Epoch 1/10\n",
            "50/50 [==============================] - 434s 9s/step - loss: 2.9370 - accuracy: 0.1184 - val_loss: 2.5396 - val_accuracy: 0.1538\n",
            "Epoch 2/10\n",
            "50/50 [==============================] - 406s 8s/step - loss: 2.2225 - accuracy: 0.2678 - val_loss: 1.7825 - val_accuracy: 0.6154\n",
            "Epoch 3/10\n",
            "50/50 [==============================] - 407s 8s/step - loss: 1.4620 - accuracy: 0.5084 - val_loss: 1.3771 - val_accuracy: 0.7308\n",
            "Epoch 4/10\n",
            "50/50 [==============================] - 402s 8s/step - loss: 0.8549 - accuracy: 0.7234 - val_loss: 1.2096 - val_accuracy: 0.7308\n",
            "Epoch 5/10\n",
            "50/50 [==============================] - 397s 8s/step - loss: 0.4468 - accuracy: 0.8585 - val_loss: 1.2072 - val_accuracy: 0.7308\n",
            "Epoch 6/10\n",
            "50/50 [==============================] - 399s 8s/step - loss: 0.2492 - accuracy: 0.9272 - val_loss: 1.3004 - val_accuracy: 0.7308\n",
            "Epoch 7/10\n",
            "50/50 [==============================] - 407s 8s/step - loss: 0.1583 - accuracy: 0.9584 - val_loss: 1.4119 - val_accuracy: 0.7308\n",
            "Epoch 8/10\n",
            "50/50 [==============================] - 405s 8s/step - loss: 0.1310 - accuracy: 0.9650 - val_loss: 1.4871 - val_accuracy: 0.7308\n",
            "Epoch 9/10\n",
            "50/50 [==============================] - 452s 9s/step - loss: 0.1053 - accuracy: 0.9675 - val_loss: 1.4711 - val_accuracy: 0.7308\n",
            "Epoch 10/10\n",
            "50/50 [==============================] - 410s 8s/step - loss: 0.0798 - accuracy: 0.9775 - val_loss: 1.6746 - val_accuracy: 0.7308\n"
          ]
        }
      ],
      "source": [
        "h = model.fit(train_generator,\n",
        "              validation_data=val_generator,\n",
        "              steps_per_epoch=50,\n",
        "              epochs = 10,\n",
        "              verbose = 1)"
      ]
    },
    {
      "cell_type": "code",
      "execution_count": 20,
      "id": "0e73b2cd-06a8-4e99-ace0-7391d712f2ad",
      "metadata": {
        "id": "0e73b2cd-06a8-4e99-ace0-7391d712f2ad",
        "outputId": "6d0ddc40-00b7-439f-a301-46d6f4c8dd70",
        "colab": {
          "base_uri": "https://localhost:8080/"
        }
      },
      "outputs": [
        {
          "output_type": "stream",
          "name": "stdout",
          "text": [
            "1/1 [==============================] - 0s 44ms/step\n",
            "12\n"
          ]
        }
      ],
      "source": [
        "from tensorflow.keras.utils import load_img, img_to_array\n",
        "\n",
        "tes_path = os.path.join('1copy1.jpg')\n",
        "img = load_img(tes_path, target_size=(600, 600))\n",
        "x = img_to_array(img)\n",
        "x /= 255\n",
        "x = np.expand_dims(x, axis=0)\n",
        "images = np.vstack([x])\n",
        "yhat = model.predict(images)\n",
        "yhat = np.argmax(yhat, axis=1)[0]\n",
        "print(yhat)"
      ]
    },
    {
      "cell_type": "code",
      "execution_count": 21,
      "id": "8dd6bdcf-6a12-45d0-864a-3034a879583c",
      "metadata": {
        "id": "8dd6bdcf-6a12-45d0-864a-3034a879583c",
        "colab": {
          "base_uri": "https://localhost:8080/",
          "height": 235
        },
        "outputId": "a0f23af5-5de8-45a0-901a-aaa9cf87a17b"
      },
      "outputs": [
        {
          "output_type": "error",
          "ename": "TypeError",
          "evalue": "ignored",
          "traceback": [
            "\u001b[0;31m---------------------------------------------------------------------------\u001b[0m",
            "\u001b[0;31mTypeError\u001b[0m                                 Traceback (most recent call last)",
            "\u001b[0;32m<ipython-input-21-85e5210c554d>\u001b[0m in \u001b[0;36m<cell line: 1>\u001b[0;34m()\u001b[0m\n\u001b[0;32m----> 1\u001b[0;31m \u001b[0mloss_train\u001b[0m \u001b[0;34m=\u001b[0m \u001b[0mh\u001b[0m\u001b[0;34m.\u001b[0m\u001b[0mhistory\u001b[0m\u001b[0;34m(\u001b[0m\u001b[0;34m[\u001b[0m\u001b[0;34m'train_loss'\u001b[0m\u001b[0;34m]\u001b[0m\u001b[0;34m)\u001b[0m\u001b[0;34m\u001b[0m\u001b[0;34m\u001b[0m\u001b[0m\n\u001b[0m\u001b[1;32m      2\u001b[0m \u001b[0mloss_val\u001b[0m \u001b[0;34m=\u001b[0m \u001b[0mh\u001b[0m\u001b[0;34m.\u001b[0m\u001b[0mhistory\u001b[0m\u001b[0;34m(\u001b[0m\u001b[0;34m[\u001b[0m\u001b[0;34m'val_loss'\u001b[0m\u001b[0;34m]\u001b[0m\u001b[0;34m)\u001b[0m\u001b[0;34m\u001b[0m\u001b[0;34m\u001b[0m\u001b[0m\n\u001b[1;32m      3\u001b[0m \u001b[0mtrain_acc\u001b[0m \u001b[0;34m=\u001b[0m \u001b[0mh\u001b[0m\u001b[0;34m.\u001b[0m\u001b[0mhistory\u001b[0m\u001b[0;34m(\u001b[0m\u001b[0;34m[\u001b[0m\u001b[0;34m'acc'\u001b[0m\u001b[0;34m]\u001b[0m\u001b[0;34m)\u001b[0m\u001b[0;34m\u001b[0m\u001b[0;34m\u001b[0m\u001b[0m\n\u001b[1;32m      4\u001b[0m \u001b[0mval_acc\u001b[0m \u001b[0;34m=\u001b[0m \u001b[0mh\u001b[0m\u001b[0;34m.\u001b[0m\u001b[0mhistory\u001b[0m\u001b[0;34m(\u001b[0m\u001b[0;34m[\u001b[0m\u001b[0;34m'val_acc'\u001b[0m\u001b[0;34m]\u001b[0m\u001b[0;34m)\u001b[0m\u001b[0;34m\u001b[0m\u001b[0;34m\u001b[0m\u001b[0m\n\u001b[1;32m      5\u001b[0m \u001b[0mepochs\u001b[0m \u001b[0;34m=\u001b[0m \u001b[0mrange\u001b[0m\u001b[0;34m(\u001b[0m\u001b[0;36m1\u001b[0m\u001b[0;34m,\u001b[0m \u001b[0;36m11\u001b[0m\u001b[0;34m)\u001b[0m\u001b[0;34m\u001b[0m\u001b[0;34m\u001b[0m\u001b[0m\n",
            "\u001b[0;31mTypeError\u001b[0m: 'dict' object is not callable"
          ]
        }
      ],
      "source": [
        "loss_train = h.history(['train_loss'])\n",
        "loss_val = h.history(['val_loss'])\n",
        "train_acc = h.history(['acc'])\n",
        "val_acc = h.history(['val_acc'])\n",
        "epochs = range(1, 11)"
      ]
    },
    {
      "cell_type": "code",
      "source": [
        "plt.plot(epochs, loss_train, 'g', label='Training loss')\n",
        "plt.plot(epochs, loss_val, 'b', label='validation loss')\n",
        "plt.title('Training and Validation loss')\n",
        "plt.xlabel('Epochs')\n",
        "plt.ylabel('Loss')\n",
        "plt.legend()\n",
        "plt.show()"
      ],
      "metadata": {
        "id": "jRpVU282ZqsP"
      },
      "id": "jRpVU282ZqsP",
      "execution_count": null,
      "outputs": []
    },
    {
      "cell_type": "code",
      "source": [
        "plt.plot(epochs, train_acc, 'g', label='Training Accuracy')\n",
        "plt.plot(epochs, val_acc, 'b', label='Validation Accuracy')\n",
        "plt.title('Training and Validation Accuracy')\n",
        "plt.xlabel('Epochs')\n",
        "plt.ylabel('Acc')\n",
        "plt.legend()\n",
        "plt.show()"
      ],
      "metadata": {
        "id": "mHZnRCMgZvr5"
      },
      "id": "mHZnRCMgZvr5",
      "execution_count": null,
      "outputs": []
    },
    {
      "cell_type": "code",
      "source": [
        "model.save('model_HDD.h5')"
      ],
      "metadata": {
        "colab": {
          "base_uri": "https://localhost:8080/",
          "height": 165
        },
        "id": "HlWRTwW-aP1S",
        "outputId": "e0f57e74-6db5-4c3b-8b5d-456e927a50ba"
      },
      "id": "HlWRTwW-aP1S",
      "execution_count": 1,
      "outputs": [
        {
          "output_type": "error",
          "ename": "NameError",
          "evalue": "ignored",
          "traceback": [
            "\u001b[0;31m---------------------------------------------------------------------------\u001b[0m",
            "\u001b[0;31mNameError\u001b[0m                                 Traceback (most recent call last)",
            "\u001b[0;32m<ipython-input-1-6d6a9d6fcd7f>\u001b[0m in \u001b[0;36m<cell line: 1>\u001b[0;34m()\u001b[0m\n\u001b[0;32m----> 1\u001b[0;31m \u001b[0mmodel\u001b[0m\u001b[0;34m.\u001b[0m\u001b[0msave\u001b[0m\u001b[0;34m(\u001b[0m\u001b[0;34m'model_HDD.h5'\u001b[0m\u001b[0;34m)\u001b[0m\u001b[0;34m\u001b[0m\u001b[0;34m\u001b[0m\u001b[0m\n\u001b[0m",
            "\u001b[0;31mNameError\u001b[0m: name 'model' is not defined"
          ]
        }
      ]
    },
    {
      "cell_type": "code",
      "source": [],
      "metadata": {
        "id": "rTa8zp3LchyE"
      },
      "id": "rTa8zp3LchyE",
      "execution_count": null,
      "outputs": []
    }
  ],
  "metadata": {
    "kernelspec": {
      "display_name": "Python 3",
      "name": "python3"
    },
    "language_info": {
      "codemirror_mode": {
        "name": "ipython",
        "version": 3
      },
      "file_extension": ".py",
      "mimetype": "text/x-python",
      "name": "python",
      "nbconvert_exporter": "python",
      "pygments_lexer": "ipython3",
      "version": "3.11.0"
    },
    "colab": {
      "provenance": [],
      "gpuType": "T4"
    },
    "accelerator": "GPU"
  },
  "nbformat": 4,
  "nbformat_minor": 5
}