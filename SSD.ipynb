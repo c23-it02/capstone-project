{
  "cells": [
    {
      "cell_type": "code",
      "execution_count": 1,
      "id": "916297fb-f701-40d4-b670-e07a3f3f5fef",
      "metadata": {
        "tags": [],
        "id": "916297fb-f701-40d4-b670-e07a3f3f5fef"
      },
      "outputs": [],
      "source": [
        "import os\n",
        "import numpy as np\n",
        "import tensorflow as tf\n",
        "from tensorflow import keras\n",
        "from tensorflow.keras import layers\n",
        "from tensorflow.keras.models import Sequential\n",
        "import PIL\n",
        "from google.colab import drive\n",
        "import zipfile\n",
        "import matplotlib.pyplot as plt\n",
        "import cv2"
      ]
    },
    {
      "cell_type": "code",
      "source": [
        "drive.mount('/content/gdrive')"
      ],
      "metadata": {
        "colab": {
          "base_uri": "https://localhost:8080/"
        },
        "id": "NwaimNDsz8zK",
        "outputId": "6ec240ff-61d8-40b4-8fc4-be93f78937ae"
      },
      "id": "NwaimNDsz8zK",
      "execution_count": 2,
      "outputs": [
        {
          "output_type": "stream",
          "name": "stdout",
          "text": [
            "Mounted at /content/gdrive\n"
          ]
        }
      ]
    },
    {
      "cell_type": "code",
      "source": [
        "os.listdir('gdrive/MyDrive/Dataset')"
      ],
      "metadata": {
        "colab": {
          "base_uri": "https://localhost:8080/"
        },
        "id": "ng_sw0NR1Sk_",
        "outputId": "d88d676f-c99e-43e3-9c85-f24be6f577d8"
      },
      "id": "ng_sw0NR1Sk_",
      "execution_count": null,
      "outputs": [
        {
          "output_type": "execute_result",
          "data": {
            "text/plain": [
              "['dataset_HDD_train_kecil1.zip', 'dataset_HDD_val_kecil1.zip']"
            ]
          },
          "metadata": {},
          "execution_count": 10
        }
      ]
    },
    {
      "cell_type": "code",
      "source": [
        "path_train = os.path.join('gdrive', 'MyDrive', 'dataset', 'dataset_HDD_train_kecil1.zip')\n",
        "path_val = os.path.join('gdrive', 'MyDrive', 'dataset', 'dataset_HDD_val_kecil1.zip')\n",
        "\n",
        "file = zipfile.ZipFile(path_train)\n",
        "file.extractall()\n",
        "file.close()\n",
        "\n",
        "myfile = zipfile.ZipFile(path_val)\n",
        "myfile.extractall()\n",
        "myfile.close()"
      ],
      "metadata": {
        "id": "YFyS0WPs0KXF"
      },
      "id": "YFyS0WPs0KXF",
      "execution_count": 3,
      "outputs": []
    },
    {
      "cell_type": "code",
      "execution_count": 2,
      "id": "5c8154e6-fb8f-4507-8ae7-28364a90513c",
      "metadata": {
        "tags": [],
        "id": "5c8154e6-fb8f-4507-8ae7-28364a90513c"
      },
      "outputs": [],
      "source": [
        "train_datagen = tf.keras.preprocessing.image.ImageDataGenerator(\n",
        "    rescale = 1 / 255,\n",
        "    width_shift_range=0.1,  \n",
        "    height_shift_range=0.1, \n",
        "    zoom_range=0.2, \n",
        "    horizontal_flip=True,  \n",
        "    brightness_range=(0.8, 1.2),  \n",
        "    fill_mode='nearest'\n",
        ")\n",
        "\n",
        "val_datagen = tf.keras.preprocessing.image.ImageDataGenerator(rescale=1/255)"
      ]
    },
    {
      "cell_type": "code",
      "execution_count": 9,
      "id": "88ab7753-dad1-4c75-a2a7-d63582b34634",
      "metadata": {
        "tags": [],
        "colab": {
          "base_uri": "https://localhost:8080/"
        },
        "id": "88ab7753-dad1-4c75-a2a7-d63582b34634",
        "outputId": "621a6539-7ddf-45e1-9a7c-2259b101503e"
      },
      "outputs": [
        {
          "output_type": "stream",
          "name": "stdout",
          "text": [
            "Found 40800 images belonging to 51 classes.\n",
            "Found 8364 images belonging to 51 classes.\n"
          ]
        }
      ],
      "source": [
        "train_generator = train_datagen.flow_from_directory(\n",
        "        'dataset_SSD_train',  # This is the source directory for training images\n",
        "        target_size=(600, 600),  # All images will be resized to 150x150\n",
        "        batch_size=150,\n",
        "        class_mode='categorical')\n",
        "\n",
        "val_generator = val_datagen.flow_from_directory(\n",
        "        'dataset_SSD_val',  # This is the source directory for training images\n",
        "        target_size=(600, 600),  # All images will be resized to 150x150\n",
        "        batch_size=150,\n",
        "        class_mode='categorical')"
      ]
    },
    {
      "cell_type": "code",
      "execution_count": 4,
      "id": "bc5391cc-b26e-4f13-8d7d-dcaeb1627111",
      "metadata": {
        "tags": [],
        "id": "bc5391cc-b26e-4f13-8d7d-dcaeb1627111"
      },
      "outputs": [],
      "source": [
        "from tensorflow.keras import layers\n",
        "from tensorflow.keras import Model\n",
        "import tensorflow.keras.applications\n",
        "\n",
        "#local_weight = os.path.join('inception_v3_weights_tf_dim_ordering_tf_kernels_notop.h5')\n",
        "\n",
        "pre_trained = tensorflow.keras.applications.EfficientNetB0(\n",
        "    input_shape=(600,600,3),\n",
        "    include_top=False,\n",
        "    weights=\"imagenet\",\n",
        ")\n"
      ]
    },
    {
      "cell_type": "code",
      "execution_count": 5,
      "id": "d7dfb53e-5baa-472f-b5cb-c3c31c6f6a66",
      "metadata": {
        "tags": [],
        "id": "d7dfb53e-5baa-472f-b5cb-c3c31c6f6a66"
      },
      "outputs": [],
      "source": [
        "for layer in pre_trained.layers:\n",
        "    layer.trainable = False"
      ]
    },
    {
      "cell_type": "code",
      "execution_count": 6,
      "id": "050044bd-52b0-4987-a0fa-341a2e91a44d",
      "metadata": {
        "tags": [],
        "id": "050044bd-52b0-4987-a0fa-341a2e91a44d"
      },
      "outputs": [],
      "source": [
        "model = tf.keras.models.Sequential()\n",
        "model.add(pre_trained)\n",
        "model.add(layers.BatchNormalization(renorm=True))\n",
        "model.add(layers.GlobalAveragePooling2D())\n",
        "model.add(layers.Dense(256, activation='relu'))\n",
        "model.add(layers.BatchNormalization())\n",
        "model.add(layers.Dropout(0.2))\n",
        "model.add(layers.Dense(128, activation='relu'))\n",
        "model.add(layers.BatchNormalization())\n",
        "model.add(layers.Dropout(0.2))\n",
        "model.add(layers.Dense(51, activation='softmax'))\n",
        "\n",
        "model.compile(loss='categorical_crossentropy', optimizer='adam', metrics=['accuracy'])"
      ]
    },
    {
      "cell_type": "code",
      "execution_count": 7,
      "id": "70cea4f0-46cd-459b-bc70-2a5e7752d57d",
      "metadata": {
        "tags": [],
        "colab": {
          "base_uri": "https://localhost:8080/"
        },
        "id": "70cea4f0-46cd-459b-bc70-2a5e7752d57d",
        "outputId": "91707411-389e-49ac-d55b-914accb2b812"
      },
      "outputs": [
        {
          "output_type": "stream",
          "name": "stdout",
          "text": [
            "Model: \"sequential\"\n",
            "_________________________________________________________________\n",
            " Layer (type)                Output Shape              Param #   \n",
            "=================================================================\n",
            " efficientnetb0 (Functional)  (None, 19, 19, 1280)     4049571   \n",
            "                                                                 \n",
            " batch_normalization (BatchN  (None, 19, 19, 1280)     8960      \n",
            " ormalization)                                                   \n",
            "                                                                 \n",
            " global_average_pooling2d (G  (None, 1280)             0         \n",
            " lobalAveragePooling2D)                                          \n",
            "                                                                 \n",
            " dense (Dense)               (None, 256)               327936    \n",
            "                                                                 \n",
            " batch_normalization_1 (Batc  (None, 256)              1024      \n",
            " hNormalization)                                                 \n",
            "                                                                 \n",
            " dropout (Dropout)           (None, 256)               0         \n",
            "                                                                 \n",
            " dense_1 (Dense)             (None, 128)               32896     \n",
            "                                                                 \n",
            " batch_normalization_2 (Batc  (None, 128)              512       \n",
            " hNormalization)                                                 \n",
            "                                                                 \n",
            " dropout_1 (Dropout)         (None, 128)               0         \n",
            "                                                                 \n",
            " dense_2 (Dense)             (None, 51)                6579      \n",
            "                                                                 \n",
            "=================================================================\n",
            "Total params: 4,427,478\n",
            "Trainable params: 370,739\n",
            "Non-trainable params: 4,056,739\n",
            "_________________________________________________________________\n"
          ]
        }
      ],
      "source": [
        "model.summary()"
      ]
    },
    {
      "cell_type": "code",
      "execution_count": null,
      "id": "0fce573a-499c-41f1-a6b3-4b91c3d9fc0e",
      "metadata": {
        "tags": [],
        "colab": {
          "base_uri": "https://localhost:8080/"
        },
        "id": "0fce573a-499c-41f1-a6b3-4b91c3d9fc0e",
        "outputId": "19146893-dbe5-4bdf-a4f8-ed9ada1d20d9"
      },
      "outputs": [
        {
          "output_type": "stream",
          "name": "stdout",
          "text": [
            "Epoch 1/8\n",
            "100/100 [==============================] - 1696s 17s/step - loss: 4.2442 - accuracy: 0.0199 - val_loss: 3.9523 - val_accuracy: 0.0196\n",
            "Epoch 2/8\n",
            " 73/100 [====================>.........] - ETA: 6:23 - loss: 4.1540 - accuracy: 0.0197"
          ]
        }
      ],
      "source": [
        "h = model.fit(train_generator,\n",
        "              validation_data=val_generator,\n",
        "              steps_per_epoch=100,\n",
        "              epochs = 8,\n",
        "              verbose = 1)"
      ]
    },
    {
      "cell_type": "code",
      "execution_count": 35,
      "id": "0e73b2cd-06a8-4e99-ace0-7391d712f2ad",
      "metadata": {
        "id": "0e73b2cd-06a8-4e99-ace0-7391d712f2ad",
        "outputId": "ba80b881-15e0-4914-bb87-67ef2228f76c",
        "colab": {
          "base_uri": "https://localhost:8080/"
        }
      },
      "outputs": [
        {
          "output_type": "stream",
          "name": "stdout",
          "text": [
            "1/1 [==============================] - 0s 41ms/step\n",
            "1\n"
          ]
        }
      ],
      "source": [
        "from tensorflow.keras.utils import load_img, img_to_array\n",
        "\n",
        "tes_path = os.path.join('1_HDD.jpg')\n",
        "img = load_img(tes_path, target_size=(600, 600))\n",
        "x = img_to_array(img)\n",
        "x /= 255\n",
        "x = np.expand_dims(x, axis=0)\n",
        "images = np.vstack([x])\n",
        "yhat = model.predict(images)\n",
        "yhat = np.argmax(yhat, axis=1)[0]\n",
        "print(yhat)"
      ]
    },
    {
      "cell_type": "code",
      "execution_count": 19,
      "id": "8dd6bdcf-6a12-45d0-864a-3034a879583c",
      "metadata": {
        "id": "8dd6bdcf-6a12-45d0-864a-3034a879583c"
      },
      "outputs": [],
      "source": [
        "loss_train = h.history['loss']\n",
        "loss_val = h.history['val_loss']\n",
        "train_acc = h.history['accuracy']\n",
        "val_acc = h.history['val_accuracy']\n",
        "epochs = range(1, 7)"
      ]
    },
    {
      "cell_type": "code",
      "source": [
        "plt.plot(epochs, loss_train, 'g', label='Training loss')\n",
        "plt.plot(epochs, loss_val, 'b', label='validation loss')\n",
        "plt.title('Training and Validation loss')\n",
        "plt.xlabel('Epochs')\n",
        "plt.ylabel('Loss')\n",
        "plt.legend()\n",
        "plt.show()"
      ],
      "metadata": {
        "id": "jRpVU282ZqsP",
        "colab": {
          "base_uri": "https://localhost:8080/",
          "height": 472
        },
        "outputId": "f38ac9f9-6df2-45d8-e4d8-82d51dc77bc7"
      },
      "id": "jRpVU282ZqsP",
      "execution_count": 20,
      "outputs": [
        {
          "output_type": "display_data",
          "data": {
            "text/plain": [
              "<Figure size 640x480 with 1 Axes>"
            ],
            "image/png": "[encoded data removed]"
          },
          "metadata": {}
        }
      ]
    },
    {
      "cell_type": "code",
      "source": [
        "plt.plot(epochs, train_acc, 'g', label='Training Accuracy')\n",
        "plt.plot(epochs, val_acc, 'b', label='Validation Accuracy')\n",
        "plt.title('Training and Validation Accuracy')\n",
        "plt.xlabel('Epochs')\n",
        "plt.ylabel('Acc')\n",
        "plt.legend()\n",
        "plt.show()"
      ],
      "metadata": {
        "id": "mHZnRCMgZvr5",
        "colab": {
          "base_uri": "https://localhost:8080/",
          "height": 472
        },
        "outputId": "111e999d-3443-41a3-e804-62f2e6cffc41"
      },
      "id": "mHZnRCMgZvr5",
      "execution_count": 21,
      "outputs": [
        {
          "output_type": "display_data",
          "data": {
            "text/plain": [
              "<Figure size 640x480 with 1 Axes>"
            ],
            "image/png": "[encoded data removed]"
          },
          "metadata": {}
        }
      ]
    },
    {
      "cell_type": "code",
      "source": [
        "model.save('model_HDD.h5')"
      ],
      "metadata": {
        "id": "HlWRTwW-aP1S"
      },
      "id": "HlWRTwW-aP1S",
      "execution_count": 22,
      "outputs": []
    },
    {
      "cell_type": "code",
      "source": [
        "os.mkdir('dataset_SSD_train')\n",
        "os.mkdir('dataset_SSD_val')"
      ],
      "metadata": {
        "id": "OASSSVL1VS3f"
      },
      "id": "OASSSVL1VS3f",
      "execution_count": 36,
      "outputs": []
    },
    {
      "cell_type": "code",
      "source": [
        "file = zipfile.ZipFile('gdrive/MyDrive/dataset/dataset_SSD.zip')\n",
        "file.extractall()\n",
        "file.close()"
      ],
      "metadata": {
        "id": "KKgu_SXsb57p"
      },
      "id": "KKgu_SXsb57p",
      "execution_count": 37,
      "outputs": []
    },
    {
      "cell_type": "code",
      "source": [
        "for folder in os.listdir('dataset_SSD'):\n",
        "  nyimpen1 = 'dataset_SSD_train'\n",
        "  nyimpen2 = 'dataset_SSD_val'\n",
        "  os.mkdir(os.path.join(nyimpen1, folder))\n",
        "  os.mkdir(os.path.join(nyimpen2, folder))\n",
        "  for image in os.listdir(os.path.join('dataset_SSD', folder)):\n",
        "    img = cv2.imread(os.path.join('dataset_SSD', folder, image))\n",
        "    img = cv2.resize(img, (600,600), interpolation=cv2.INTER_AREA)\n",
        "    for i in range(200):\n",
        "      if i < 41:\n",
        "        cv2.imwrite(os.path.join(nyimpen2, folder, image.split('.')[0] + 'copy' + str(i) + '.jpg'), img)\n",
        "      cv2.imwrite(os.path.join(nyimpen1, folder, image.split('.')[0] + 'copy' + str(i) + '.jpg'), img)"
      ],
      "metadata": {
        "id": "rTa8zp3LchyE"
      },
      "id": "rTa8zp3LchyE",
      "execution_count": 45,
      "outputs": []
    },
    {
      "cell_type": "code",
      "source": [
        "rmdir /content/dataset_SSD_train/.ipynb_checkpoints"
      ],
      "metadata": {
        "id": "BE5NmAyscSh_"
      },
      "id": "BE5NmAyscSh_",
      "execution_count": 18,
      "outputs": []
    },
    {
      "cell_type": "code",
      "source": [
        "rmdir /content/dataset_SSD_val/.ipynb_checkpoints"
      ],
      "metadata": {
        "id": "WbgSGnl_cxg1"
      },
      "id": "WbgSGnl_cxg1",
      "execution_count": 19,
      "outputs": []
    },
    {
      "cell_type": "code",
      "source": [],
      "metadata": {
        "id": "8hphst-Xiqyl"
      },
      "id": "8hphst-Xiqyl",
      "execution_count": null,
      "outputs": []
    }
  ],
  "metadata": {
    "kernelspec": {
      "display_name": "Python 3",
      "name": "python3"
    },
    "language_info": {
      "codemirror_mode": {
        "name": "ipython",
        "version": 3
      },
      "file_extension": ".py",
      "mimetype": "text/x-python",
      "name": "python",
      "nbconvert_exporter": "python",
      "pygments_lexer": "ipython3",
      "version": "3.11.0"
    },
    "colab": {
      "provenance": [],
      "gpuType": "T4"
    },
    "accelerator": "GPU"
  },
  "nbformat": 4,
  "nbformat_minor": 5
}